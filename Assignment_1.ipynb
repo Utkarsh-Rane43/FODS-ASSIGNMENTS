{
  "nbformat": 4,
  "nbformat_minor": 0,
  "metadata": {
    "colab": {
      "provenance": []
    },
    "kernelspec": {
      "name": "python3",
      "display_name": "Python 3"
    },
    "language_info": {
      "name": "python"
    }
  },
  "cells": [
    {
      "cell_type": "code",
      "source": [
        "import pandas as pd\n",
        "csv_file = pd.read_csv('/content/iris - iris.csv')\n",
        "print(\"CSV Data:\")\n",
        "print(csv_file.head())"
      ],
      "metadata": {
        "colab": {
          "base_uri": "https://localhost:8080/"
        },
        "id": "lOL6Xiw1b6Hm",
        "outputId": "84d18333-eb69-42d1-d390-5008a0259430"
      },
      "execution_count": null,
      "outputs": [
        {
          "output_type": "stream",
          "name": "stdout",
          "text": [
            "CSV Data:\n",
            "   x0   x1   x2   x3   x4         type\n",
            "0   1  5.1  3.5  1.4  0.2  Iris-setosa\n",
            "1   1  4.9  3.0  1.4  0.2  Iris-setosa\n",
            "2   1  4.7  3.2  1.3  0.2  Iris-setosa\n",
            "3   1  4.6  3.1  1.5  0.2  Iris-setosa\n",
            "4   1  5.0  3.6  1.4  0.2  Iris-setosa\n"
          ]
        }
      ]
    },
    {
      "cell_type": "code",
      "source": [
        "txt_file = pd.read_csv('/content/iris.txt', sep='\\t')\n",
        "print(\"\\nTXT data:\")\n",
        "print(txt_file.head())"
      ],
      "metadata": {
        "colab": {
          "base_uri": "https://localhost:8080/"
        },
        "id": "PwAewCv7cgMY",
        "outputId": "5148b792-83f4-454e-bbc5-5668699a70ff"
      },
      "execution_count": null,
      "outputs": [
        {
          "output_type": "stream",
          "name": "stdout",
          "text": [
            "\n",
            "TXT data:\n",
            "             x0,x1,x2,x3,x4,type\n",
            "0  1,5.1,3.5,1.4,0.2,Iris-setosa\n",
            "1    1,4.9,3,1.4,0.2,Iris-setosa\n",
            "2  1,4.7,3.2,1.3,0.2,Iris-setosa\n",
            "3  1,4.6,3.1,1.5,0.2,Iris-setosa\n",
            "4    1,5,3.6,1.4,0.2,Iris-setosa\n"
          ]
        }
      ]
    },
    {
      "cell_type": "code",
      "source": [
        "xml_file = pd.read_xml('/content/output.xml')\n",
        "print(\"\\nXML data:\")\n",
        "print(xml_file.head())"
      ],
      "metadata": {
        "colab": {
          "base_uri": "https://localhost:8080/"
        },
        "id": "hOR12EQhcysI",
        "outputId": "ba2b97d4-0e0e-48a1-9705-a9b489994490"
      },
      "execution_count": null,
      "outputs": [
        {
          "output_type": "stream",
          "name": "stdout",
          "text": [
            "\n",
            "XML data:\n",
            "   x0   x1   x2   x3   x4         type\n",
            "0   1  5.1  3.5  1.4  0.2  Iris-setosa\n",
            "1   1  4.9  3.0  1.4  0.2  Iris-setosa\n",
            "2   1  4.7  3.2  1.3  0.2  Iris-setosa\n",
            "3   1  4.6  3.1  1.5  0.2  Iris-setosa\n",
            "4   1  5.0  3.6  1.4  0.2  Iris-setosa\n"
          ]
        }
      ]
    },
    {
      "cell_type": "code",
      "source": [],
      "metadata": {
        "id": "UGu58QJHc_-1"
      },
      "execution_count": null,
      "outputs": []
    }
  ]
}