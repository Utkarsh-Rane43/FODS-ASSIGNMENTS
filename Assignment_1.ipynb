{
  "nbformat": 4,
  "nbformat_minor": 0,
  "metadata": {
    "colab": {
      "provenance": [],
      "authorship_tag": "ABX9TyMdfYd7R+jOO3cNU45Q3ch5",
      "include_colab_link": true
    },
    "kernelspec": {
      "name": "python3",
      "display_name": "Python 3"
    },
    "language_info": {
      "name": "python"
    }
  },
  "cells": [
    {
      "cell_type": "markdown",
      "metadata": {
        "id": "view-in-github",
        "colab_type": "text"
      },
      "source": [
        "<a href=\"https://colab.research.google.com/github/Utkarsh-Rane43/FODS-ASSIGNMENTS/blob/main/Assignment_1.ipynb\" target=\"_parent\"><img src=\"https://colab.research.google.com/assets/colab-badge.svg\" alt=\"Open In Colab\"/></a>"
      ]
    },
    {
      "cell_type": "code",
      "source": [
        "import pandas as pd"
      ],
      "metadata": {
        "id": "yGxHuQ9DPE2Y"
      },
      "execution_count": 2,
      "outputs": []
    },
    {
      "cell_type": "code",
      "source": [
        "csv_file = pd.read_csv('/content/iris - iris.csv')\n",
        "print(\"CSV Data:- \")\n",
        "print(csv_file.head())"
      ],
      "metadata": {
        "colab": {
          "base_uri": "https://localhost:8080/"
        },
        "id": "E5A-HZE5PGzp",
        "outputId": "75f3f2ee-b706-4ed5-dd8a-08eff5a9dba9"
      },
      "execution_count": 3,
      "outputs": [
        {
          "output_type": "stream",
          "name": "stdout",
          "text": [
            "CSV Data:- \n",
            "   x0   x1   x2   x3   x4         type\n",
            "0   1  5.1  3.5  1.4  0.2  Iris-setosa\n",
            "1   1  4.9  3.0  1.4  0.2  Iris-setosa\n",
            "2   1  4.7  3.2  1.3  0.2  Iris-setosa\n",
            "3   1  4.6  3.1  1.5  0.2  Iris-setosa\n",
            "4   1  5.0  3.6  1.4  0.2  Iris-setosa\n"
          ]
        }
      ]
    },
    {
      "cell_type": "code",
      "source": [
        "txt_file = pd.read_csv('/content/iris.txt',sep='\\t')\n",
        "print(\"TXT Data:- \")\n",
        "print(txt_file.head())"
      ],
      "metadata": {
        "colab": {
          "base_uri": "https://localhost:8080/"
        },
        "id": "24xq2shtPHix",
        "outputId": "f0d0619b-673e-4457-f987-91c5308daa28"
      },
      "execution_count": 4,
      "outputs": [
        {
          "output_type": "stream",
          "name": "stdout",
          "text": [
            "TXT Data:- \n",
            "             x0,x1,x2,x3,x4,type\n",
            "0  1,5.1,3.5,1.4,0.2,Iris-setosa\n",
            "1    1,4.9,3,1.4,0.2,Iris-setosa\n",
            "2  1,4.7,3.2,1.3,0.2,Iris-setosa\n",
            "3  1,4.6,3.1,1.5,0.2,Iris-setosa\n",
            "4    1,5,3.6,1.4,0.2,Iris-setosa\n"
          ]
        }
      ]
    },
    {
      "cell_type": "code",
      "source": [
        "xml_file = pd.read_xml('/content/iris.xml')\n",
        "print(\"XML Data:- \")\n",
        "print(xml_file.head())"
      ],
      "metadata": {
        "id": "zmCB_iMvPOzd",
        "outputId": "dc46cc7f-acbc-4170-8ea8-e922ef01048b",
        "colab": {
          "base_uri": "https://localhost:8080/"
        }
      },
      "execution_count": 5,
      "outputs": [
        {
          "output_type": "stream",
          "name": "stdout",
          "text": [
            "XML Data:- \n",
            "   x0   x1   x2   x3   x4         type\n",
            "0   1  5.1  3.5  1.4  0.2  Iris-setosa\n",
            "1   1  4.9  3.0  1.4  0.2  Iris-setosa\n",
            "2   1  4.7  3.2  1.3  0.2  Iris-setosa\n",
            "3   1  4.6  3.1  1.5  0.2  Iris-setosa\n",
            "4   1  5.0  3.6  1.4  0.2  Iris-setosa\n"
          ]
        }
      ]
    },
    {
      "cell_type": "code",
      "source": [],
      "metadata": {
        "id": "itpkjJCFPRwj"
      },
      "execution_count": null,
      "outputs": []
    }
  ]
}